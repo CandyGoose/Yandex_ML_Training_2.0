{
  "cells": [
    {
      "cell_type": "markdown",
      "metadata": {
        "id": "Jbbcq-mMmB1y"
      },
      "source": [
        "### Генерация поэзии с помощью нейронных сетей: шаг 1\n",
        "##### Автор: [Радослав Нейчев](https://www.linkedin.com/in/radoslav-neychev/), @neychev\n",
        "\n",
        "Ваша основная задача: научиться генерироват стихи с помощью простой рекуррентной нейронной сети (Vanilla RNN). В качестве корпуса текстов для обучения будет выступать роман в стихах \"Евгений Онегин\" Александра Сергеевича Пушкина."
      ]
    },
    {
      "cell_type": "code",
      "execution_count": 65,
      "metadata": {
        "id": "Bm0jBhqJmB10"
      },
      "outputs": [],
      "source": [
        "# do not change the code in the block below\n",
        "# __________start of block__________\n",
        "import string\n",
        "import os\n",
        "from random import sample\n",
        "\n",
        "import numpy as np\n",
        "import torch, torch.nn as nn\n",
        "import torch.nn.functional as F\n",
        "\n",
        "from IPython.display import clear_output\n",
        "\n",
        "import matplotlib.pyplot as plt\n",
        "# __________end of block__________"
      ]
    },
    {
      "cell_type": "code",
      "execution_count": 66,
      "metadata": {
        "colab": {
          "base_uri": "https://localhost:8080/"
        },
        "id": "SXN4iQQ1mB10",
        "outputId": "1ee8f3de-af91-4e45-88a7-6abfaf02e67e"
      },
      "outputs": [
        {
          "output_type": "stream",
          "name": "stdout",
          "text": [
            "cuda device is available\n"
          ]
        }
      ],
      "source": [
        "# do not change the code in the block below\n",
        "# __________start of block__________\n",
        "device = torch.device('cuda') if torch.cuda.is_available() else torch.device('cpu')\n",
        "print('{} device is available'.format(device))\n",
        "# __________end of block__________"
      ]
    },
    {
      "cell_type": "markdown",
      "metadata": {
        "id": "MPenWOy01Ooa",
        "outputId": "a92e8e33-e009-4bd4-ac12-3b1b5e1cd3f2"
      },
      "source": [
        "#### 1. Загрузка данных."
      ]
    },
    {
      "cell_type": "code",
      "execution_count": 67,
      "metadata": {
        "colab": {
          "base_uri": "https://localhost:8080/"
        },
        "id": "SX72uWU_mB11",
        "outputId": "98108366-0efe-43d2-fb80-6ed59130ebe4"
      },
      "outputs": [
        {
          "output_type": "stream",
          "name": "stdout",
          "text": [
            "--2024-11-06 07:05:40--  https://raw.githubusercontent.com/neychev/small_DL_repo/master/datasets/onegin.txt\n",
            "Resolving raw.githubusercontent.com (raw.githubusercontent.com)... 185.199.108.133, 185.199.109.133, 185.199.110.133, ...\n",
            "Connecting to raw.githubusercontent.com (raw.githubusercontent.com)|185.199.108.133|:443... connected.\n",
            "HTTP request sent, awaiting response... 200 OK\n",
            "Length: 262521 (256K) [text/plain]\n",
            "Saving to: ‘onegin.txt.4’\n",
            "\n",
            "\ronegin.txt.4          0%[                    ]       0  --.-KB/s               \ronegin.txt.4        100%[===================>] 256.37K  --.-KB/s    in 0.004s  \n",
            "\n",
            "2024-11-06 07:05:40 (61.6 MB/s) - ‘onegin.txt.4’ saved [262521/262521]\n",
            "\n"
          ]
        }
      ],
      "source": [
        "# do not change the code in the block below\n",
        "# __________start of block__________\n",
        "!wget https://raw.githubusercontent.com/neychev/small_DL_repo/master/datasets/onegin.txt\n",
        "\n",
        "with open('onegin.txt', 'r') as iofile:\n",
        "    text = iofile.readlines()\n",
        "\n",
        "text = \"\".join([x.replace('\\t\\t', '').lower() for x in text])\n",
        "# __________end of block__________"
      ]
    },
    {
      "cell_type": "markdown",
      "metadata": {
        "id": "XQYpmGfR_gJ8"
      },
      "source": [
        "#### 2. Построение словаря и предобработка текста\n",
        "В данном задании требуется построить языковую модель на уровне символов. Приведем весь текст к нижнему регистру и построим словарь из всех символов в доступном корпусе текстов. Также добавим токен `<sos>`."
      ]
    },
    {
      "cell_type": "code",
      "execution_count": 68,
      "metadata": {
        "colab": {
          "base_uri": "https://localhost:8080/"
        },
        "id": "GOP5QWlJmB11",
        "outputId": "e6621068-7c2e-4b7c-ae5c-0e79e0f7e215"
      },
      "outputs": [
        {
          "output_type": "stream",
          "name": "stdout",
          "text": [
            "Seems fine!\n"
          ]
        }
      ],
      "source": [
        "# do not change the code in the block below\n",
        "# __________start of block__________\n",
        "tokens = sorted(set(text.lower())) + ['<sos>']\n",
        "num_tokens = len(tokens)\n",
        "\n",
        "assert num_tokens == 84, \"Check the tokenization process\"\n",
        "\n",
        "token_to_idx = {x: idx for idx, x in enumerate(tokens)}\n",
        "idx_to_token = {idx: x for idx, x in enumerate(tokens)}\n",
        "\n",
        "assert len(tokens) == len(token_to_idx), \"Mapping should be unique\"\n",
        "\n",
        "print(\"Seems fine!\")\n",
        "\n",
        "\n",
        "text_encoded = [token_to_idx[x] for x in text]\n",
        "# __________end of block__________"
      ]
    },
    {
      "cell_type": "markdown",
      "metadata": {
        "id": "JkCb1DN8mB11"
      },
      "source": [
        "__Ваша задача__: обучить классическую рекуррентную нейронную сеть (Vanilla RNN) предсказывать следующий символ на полученном корпусе текстов и сгенерировать последовательность длины 100 для фиксированной начальной фразы.\n",
        "\n",
        "Вы можете воспользоваться кодом с занятие №6 или же обратиться к следующим ссылкам:\n",
        "* Замечательная статья за авторством Andrej Karpathy об использовании RNN: [link](http://karpathy.github.io/2015/05/21/rnn-effectiveness/)\n",
        "* Пример char-rnn от Andrej Karpathy: [github repo](https://github.com/karpathy/char-rnn)\n",
        "* Замечательный пример генерации поэзии Шекспира: [github repo](https://github.com/spro/practical-pytorch/blob/master/char-rnn-generation/char-rnn-generation.ipynb)\n",
        "\n",
        "Данное задание является достаточно творческим. Не страшно, если поначалу оно вызывает затруднения. Последняя ссылка в списке выше может быть особенно полезна в данном случае.\n",
        "\n",
        "Далее для вашего удобства реализована функция, которая генерирует случайный батч размера `batch_size` из строк длиной `seq_length`. Вы можете использовать его при обучении модели."
      ]
    },
    {
      "cell_type": "code",
      "execution_count": 69,
      "metadata": {
        "id": "VS9XbPCumB11"
      },
      "outputs": [],
      "source": [
        "# do not change the code in the block below\n",
        "# __________start of block__________\n",
        "batch_size = 256\n",
        "seq_length = 100\n",
        "start_column = np.zeros((batch_size, 1), dtype=int) + token_to_idx['<sos>']\n",
        "\n",
        "def generate_chunk():\n",
        "    global text_encoded, start_column, batch_size, seq_length\n",
        "\n",
        "    start_index = np.random.randint(0, len(text_encoded) - batch_size*seq_length - 1)\n",
        "    data = np.array(text_encoded[start_index:start_index + batch_size*seq_length]).reshape((batch_size, -1))\n",
        "    yield np.hstack((start_column, data))\n",
        "# __________end of block__________"
      ]
    },
    {
      "cell_type": "markdown",
      "metadata": {
        "id": "En3DtNotmB12"
      },
      "source": [
        "Пример батча:"
      ]
    },
    {
      "cell_type": "code",
      "execution_count": 70,
      "metadata": {
        "colab": {
          "base_uri": "https://localhost:8080/"
        },
        "id": "EMjuUTh8mB12",
        "outputId": "c7d5da7a-93c4-437a-a491-43d58efb8667"
      },
      "outputs": [
        {
          "output_type": "execute_result",
          "data": {
            "text/plain": [
              "array([[83, 45, 56, ..., 48, 59, 47],\n",
              "       [83, 59, 61, ...,  1, 62, 60],\n",
              "       [83, 53, 62, ...,  1, 60, 53],\n",
              "       ...,\n",
              "       [83, 61, 55, ...,  1, 62, 59],\n",
              "       [83, 48, 56, ..., 57,  1, 52],\n",
              "       [83, 50, 61, ..., 59, 56, 59]])"
            ]
          },
          "metadata": {},
          "execution_count": 70
        }
      ],
      "source": [
        "next(generate_chunk())"
      ]
    },
    {
      "cell_type": "markdown",
      "metadata": {
        "id": "nWpyFfLUmB12"
      },
      "source": [
        "Далее вам предстоит написать код для обучения модели и генерации текста."
      ]
    },
    {
      "cell_type": "code",
      "execution_count": 71,
      "metadata": {
        "id": "9jEdyPfUmB12"
      },
      "outputs": [],
      "source": [
        "class VanillaRNN(nn.Module):\n",
        "    def __init__(self, input_size, hidden_size, output_size, num_layers=1):\n",
        "        super(VanillaRNN, self).__init__()\n",
        "        self.hidden_size = hidden_size\n",
        "        self.num_layers = num_layers\n",
        "        self.rnn = nn.RNN(input_size, hidden_size, num_layers, nonlinearity='tanh', batch_first=True)\n",
        "        self.fc = nn.Linear(hidden_size, output_size)\n",
        "\n",
        "    def forward(self, x, hidden):\n",
        "        out, hidden = self.rnn(x, hidden)\n",
        "        out = out.contiguous().view(-1, self.hidden_size)\n",
        "        out = self.fc(out)\n",
        "        return out, hidden\n",
        "\n",
        "    def init_hidden(self, batch_size):\n",
        "        return torch.zeros(self.num_layers, batch_size, self.hidden_size).to(device)"
      ]
    },
    {
      "cell_type": "code",
      "source": [
        "input_size = num_tokens  # Размер входного пространства (количество токенов)\n",
        "hidden_size = 128        # Размер скрытого слоя\n",
        "output_size = num_tokens # Размер выходного пространства (количество токенов)\n",
        "num_layers = 2           # Количество слоев RNN\n",
        "num_epochs = 200         # Количество эпох обучения\n",
        "learning_rate = 0.003    # Скорость обучения\n",
        "batch_size = 256         # Размер батча\n",
        "seq_length = 100         # Длина последовательности\n",
        "\n",
        "model = VanillaRNN(input_size, hidden_size, output_size, num_layers).to(device)\n",
        "\n",
        "criterion = nn.CrossEntropyLoss()\n",
        "optimizer = torch.optim.Adam(model.parameters(), lr=learning_rate)"
      ],
      "metadata": {
        "id": "uSl0xD_COk3G"
      },
      "execution_count": 72,
      "outputs": []
    },
    {
      "cell_type": "code",
      "source": [
        "def one_hot_encode(batch, num_tokens):\n",
        "    return F.one_hot(torch.tensor(batch[:, :-1]), num_classes=num_tokens).float()\n",
        "\n",
        "def get_targets(batch):\n",
        "    return torch.tensor(batch[:, 1:]).reshape(-1).to(device)\n",
        "\n",
        "batches_per_epoch = len(text_encoded) // (batch_size * seq_length)"
      ],
      "metadata": {
        "id": "OHVT36GDOmby"
      },
      "execution_count": 73,
      "outputs": []
    },
    {
      "cell_type": "code",
      "source": [
        "loss_history = []\n",
        "\n",
        "for epoch in range(1, num_epochs + 1):\n",
        "    model.train()\n",
        "    hidden = model.init_hidden(batch_size)\n",
        "    total_loss = 0.0\n",
        "\n",
        "    for _ in range(batches_per_epoch):\n",
        "        batch = next(generate_chunk())\n",
        "        inputs = one_hot_encode(batch, num_tokens).to(device)\n",
        "        targets = get_targets(batch)\n",
        "\n",
        "        optimizer.zero_grad()\n",
        "\n",
        "        outputs, hidden = model(inputs, hidden.detach())\n",
        "\n",
        "        loss = criterion(outputs, targets)\n",
        "\n",
        "        loss.backward()\n",
        "        optimizer.step()\n",
        "\n",
        "        total_loss += loss.item()\n",
        "\n",
        "    avg_loss = total_loss / batches_per_epoch\n",
        "    loss_history.append(avg_loss)\n",
        "    print(f'Epoch [{epoch}/{num_epochs}], Loss: {avg_loss:.4f}')"
      ],
      "metadata": {
        "colab": {
          "base_uri": "https://localhost:8080/"
        },
        "id": "EbRBQrXmOq-T",
        "outputId": "acb0c145-b7cb-4ddb-cffb-1aa01007ff15"
      },
      "execution_count": 74,
      "outputs": [
        {
          "output_type": "stream",
          "name": "stdout",
          "text": [
            "Epoch [1/200], Loss: 3.9410\n",
            "Epoch [2/200], Loss: 3.3692\n",
            "Epoch [3/200], Loss: 3.3320\n",
            "Epoch [4/200], Loss: 3.3272\n",
            "Epoch [5/200], Loss: 3.3155\n",
            "Epoch [6/200], Loss: 3.3139\n",
            "Epoch [7/200], Loss: 3.3009\n",
            "Epoch [8/200], Loss: 3.2922\n",
            "Epoch [9/200], Loss: 3.2734\n",
            "Epoch [10/200], Loss: 3.2300\n",
            "Epoch [11/200], Loss: 3.1948\n",
            "Epoch [12/200], Loss: 3.1576\n",
            "Epoch [13/200], Loss: 3.1010\n",
            "Epoch [14/200], Loss: 3.0487\n",
            "Epoch [15/200], Loss: 3.0085\n",
            "Epoch [16/200], Loss: 2.9601\n",
            "Epoch [17/200], Loss: 2.9205\n",
            "Epoch [18/200], Loss: 2.8878\n",
            "Epoch [19/200], Loss: 2.8763\n",
            "Epoch [20/200], Loss: 2.8449\n",
            "Epoch [21/200], Loss: 2.8070\n",
            "Epoch [22/200], Loss: 2.7853\n",
            "Epoch [23/200], Loss: 2.7546\n",
            "Epoch [24/200], Loss: 2.7373\n",
            "Epoch [25/200], Loss: 2.7078\n",
            "Epoch [26/200], Loss: 2.6970\n",
            "Epoch [27/200], Loss: 2.6764\n",
            "Epoch [28/200], Loss: 2.6526\n",
            "Epoch [29/200], Loss: 2.6386\n",
            "Epoch [30/200], Loss: 2.6172\n",
            "Epoch [31/200], Loss: 2.5990\n",
            "Epoch [32/200], Loss: 2.5883\n",
            "Epoch [33/200], Loss: 2.5756\n",
            "Epoch [34/200], Loss: 2.5611\n",
            "Epoch [35/200], Loss: 2.5480\n",
            "Epoch [36/200], Loss: 2.5395\n",
            "Epoch [37/200], Loss: 2.5233\n",
            "Epoch [38/200], Loss: 2.5071\n",
            "Epoch [39/200], Loss: 2.4922\n",
            "Epoch [40/200], Loss: 2.4764\n",
            "Epoch [41/200], Loss: 2.4613\n",
            "Epoch [42/200], Loss: 2.4603\n",
            "Epoch [43/200], Loss: 2.4401\n",
            "Epoch [44/200], Loss: 2.4349\n",
            "Epoch [45/200], Loss: 2.4186\n",
            "Epoch [46/200], Loss: 2.4153\n",
            "Epoch [47/200], Loss: 2.4003\n",
            "Epoch [48/200], Loss: 2.3949\n",
            "Epoch [49/200], Loss: 2.3894\n",
            "Epoch [50/200], Loss: 2.3594\n",
            "Epoch [51/200], Loss: 2.3486\n",
            "Epoch [52/200], Loss: 2.3511\n",
            "Epoch [53/200], Loss: 2.3332\n",
            "Epoch [54/200], Loss: 2.3205\n",
            "Epoch [55/200], Loss: 2.3073\n",
            "Epoch [56/200], Loss: 2.3087\n",
            "Epoch [57/200], Loss: 2.2705\n",
            "Epoch [58/200], Loss: 2.2800\n",
            "Epoch [59/200], Loss: 2.2783\n",
            "Epoch [60/200], Loss: 2.2590\n",
            "Epoch [61/200], Loss: 2.2591\n",
            "Epoch [62/200], Loss: 2.2333\n",
            "Epoch [63/200], Loss: 2.2345\n",
            "Epoch [64/200], Loss: 2.2265\n",
            "Epoch [65/200], Loss: 2.2190\n",
            "Epoch [66/200], Loss: 2.1974\n",
            "Epoch [67/200], Loss: 2.2009\n",
            "Epoch [68/200], Loss: 2.2308\n",
            "Epoch [69/200], Loss: 2.2075\n",
            "Epoch [70/200], Loss: 2.1942\n",
            "Epoch [71/200], Loss: 2.1929\n",
            "Epoch [72/200], Loss: 2.1805\n",
            "Epoch [73/200], Loss: 2.1566\n",
            "Epoch [74/200], Loss: 2.1473\n",
            "Epoch [75/200], Loss: 2.1464\n",
            "Epoch [76/200], Loss: 2.1548\n",
            "Epoch [77/200], Loss: 2.1222\n",
            "Epoch [78/200], Loss: 2.0927\n",
            "Epoch [79/200], Loss: 2.0920\n",
            "Epoch [80/200], Loss: 2.1035\n",
            "Epoch [81/200], Loss: 2.0789\n",
            "Epoch [82/200], Loss: 2.0877\n",
            "Epoch [83/200], Loss: 2.0709\n",
            "Epoch [84/200], Loss: 2.0884\n",
            "Epoch [85/200], Loss: 2.0774\n",
            "Epoch [86/200], Loss: 2.0536\n",
            "Epoch [87/200], Loss: 2.0487\n",
            "Epoch [88/200], Loss: 2.0409\n",
            "Epoch [89/200], Loss: 2.0182\n",
            "Epoch [90/200], Loss: 2.0395\n",
            "Epoch [91/200], Loss: 2.0461\n",
            "Epoch [92/200], Loss: 2.0294\n",
            "Epoch [93/200], Loss: 1.9990\n",
            "Epoch [94/200], Loss: 2.0130\n",
            "Epoch [95/200], Loss: 2.0143\n",
            "Epoch [96/200], Loss: 2.0178\n",
            "Epoch [97/200], Loss: 2.0030\n",
            "Epoch [98/200], Loss: 1.9816\n",
            "Epoch [99/200], Loss: 2.0107\n",
            "Epoch [100/200], Loss: 1.9752\n",
            "Epoch [101/200], Loss: 1.9788\n",
            "Epoch [102/200], Loss: 1.9785\n",
            "Epoch [103/200], Loss: 1.9563\n",
            "Epoch [104/200], Loss: 1.9535\n",
            "Epoch [105/200], Loss: 1.9494\n",
            "Epoch [106/200], Loss: 1.9520\n",
            "Epoch [107/200], Loss: 1.9395\n",
            "Epoch [108/200], Loss: 1.9304\n",
            "Epoch [109/200], Loss: 1.9181\n",
            "Epoch [110/200], Loss: 1.9423\n",
            "Epoch [111/200], Loss: 1.9472\n",
            "Epoch [112/200], Loss: 1.9183\n",
            "Epoch [113/200], Loss: 1.9178\n",
            "Epoch [114/200], Loss: 1.9007\n",
            "Epoch [115/200], Loss: 1.9085\n",
            "Epoch [116/200], Loss: 1.8964\n",
            "Epoch [117/200], Loss: 1.8931\n",
            "Epoch [118/200], Loss: 1.8754\n",
            "Epoch [119/200], Loss: 1.8897\n",
            "Epoch [120/200], Loss: 1.8608\n",
            "Epoch [121/200], Loss: 1.8794\n",
            "Epoch [122/200], Loss: 1.8743\n",
            "Epoch [123/200], Loss: 1.8753\n",
            "Epoch [124/200], Loss: 1.8514\n",
            "Epoch [125/200], Loss: 1.8726\n",
            "Epoch [126/200], Loss: 1.8711\n",
            "Epoch [127/200], Loss: 1.8468\n",
            "Epoch [128/200], Loss: 1.8637\n",
            "Epoch [129/200], Loss: 1.8371\n",
            "Epoch [130/200], Loss: 1.8439\n",
            "Epoch [131/200], Loss: 1.8444\n",
            "Epoch [132/200], Loss: 1.8231\n",
            "Epoch [133/200], Loss: 1.8238\n",
            "Epoch [134/200], Loss: 1.8269\n",
            "Epoch [135/200], Loss: 1.8247\n",
            "Epoch [136/200], Loss: 1.8037\n",
            "Epoch [137/200], Loss: 1.8024\n",
            "Epoch [138/200], Loss: 1.7803\n",
            "Epoch [139/200], Loss: 1.7864\n",
            "Epoch [140/200], Loss: 1.7990\n",
            "Epoch [141/200], Loss: 1.8363\n",
            "Epoch [142/200], Loss: 1.7981\n",
            "Epoch [143/200], Loss: 1.7831\n",
            "Epoch [144/200], Loss: 1.7611\n",
            "Epoch [145/200], Loss: 1.7934\n",
            "Epoch [146/200], Loss: 1.8239\n",
            "Epoch [147/200], Loss: 1.8066\n",
            "Epoch [148/200], Loss: 1.7662\n",
            "Epoch [149/200], Loss: 1.7511\n",
            "Epoch [150/200], Loss: 1.7625\n",
            "Epoch [151/200], Loss: 1.8170\n",
            "Epoch [152/200], Loss: 1.8081\n",
            "Epoch [153/200], Loss: 1.7608\n",
            "Epoch [154/200], Loss: 1.7589\n",
            "Epoch [155/200], Loss: 1.7429\n",
            "Epoch [156/200], Loss: 1.7925\n",
            "Epoch [157/200], Loss: 1.7710\n",
            "Epoch [158/200], Loss: 1.7654\n",
            "Epoch [159/200], Loss: 1.7399\n",
            "Epoch [160/200], Loss: 1.7376\n",
            "Epoch [161/200], Loss: 1.7462\n",
            "Epoch [162/200], Loss: 1.7384\n",
            "Epoch [163/200], Loss: 1.7165\n",
            "Epoch [164/200], Loss: 1.7472\n",
            "Epoch [165/200], Loss: 1.7333\n",
            "Epoch [166/200], Loss: 1.7042\n",
            "Epoch [167/200], Loss: 1.7260\n",
            "Epoch [168/200], Loss: 1.7021\n",
            "Epoch [169/200], Loss: 1.7475\n",
            "Epoch [170/200], Loss: 1.7060\n",
            "Epoch [171/200], Loss: 1.6766\n",
            "Epoch [172/200], Loss: 1.7012\n",
            "Epoch [173/200], Loss: 1.6763\n",
            "Epoch [174/200], Loss: 1.7350\n",
            "Epoch [175/200], Loss: 1.7093\n",
            "Epoch [176/200], Loss: 1.7329\n",
            "Epoch [177/200], Loss: 1.7121\n",
            "Epoch [178/200], Loss: 1.6797\n",
            "Epoch [179/200], Loss: 1.6776\n",
            "Epoch [180/200], Loss: 1.7044\n",
            "Epoch [181/200], Loss: 1.7114\n",
            "Epoch [182/200], Loss: 1.7117\n",
            "Epoch [183/200], Loss: 1.6979\n",
            "Epoch [184/200], Loss: 1.6702\n",
            "Epoch [185/200], Loss: 1.6943\n",
            "Epoch [186/200], Loss: 1.6864\n",
            "Epoch [187/200], Loss: 1.6832\n",
            "Epoch [188/200], Loss: 1.6377\n",
            "Epoch [189/200], Loss: 1.6732\n",
            "Epoch [190/200], Loss: 1.6079\n",
            "Epoch [191/200], Loss: 1.6455\n",
            "Epoch [192/200], Loss: 1.6487\n",
            "Epoch [193/200], Loss: 1.7143\n",
            "Epoch [194/200], Loss: 1.6602\n",
            "Epoch [195/200], Loss: 1.6559\n",
            "Epoch [196/200], Loss: 1.6475\n",
            "Epoch [197/200], Loss: 1.6224\n",
            "Epoch [198/200], Loss: 1.6223\n",
            "Epoch [199/200], Loss: 1.6777\n",
            "Epoch [200/200], Loss: 1.6008\n"
          ]
        }
      ]
    },
    {
      "cell_type": "markdown",
      "metadata": {
        "id": "Ln0ImdvTmB12"
      },
      "source": [
        "В качестве иллюстрации ниже доступен график значений функции потерь, построенный в ходе обучения авторской сети (сам код для ее обучения вам и предстоит написать)."
      ]
    },
    {
      "cell_type": "code",
      "execution_count": 75,
      "metadata": {
        "colab": {
          "base_uri": "https://localhost:8080/",
          "height": 372
        },
        "id": "tCGHB4ufmB12",
        "outputId": "204139e7-1442-47eb-9e88-7ba7e432276f"
      },
      "outputs": [
        {
          "output_type": "display_data",
          "data": {
            "text/plain": [
              "<Figure size 1000x500 with 1 Axes>"
            ],
            "image/png": "[encoded data removed]"
          },
          "metadata": {}
        }
      ],
      "source": [
        "plt.figure(figsize=(10,5))\n",
        "plt.plot(loss_history, label='Training Loss')\n",
        "plt.xlabel('Epoch')\n",
        "plt.ylabel('Loss')\n",
        "plt.title('Функция потерь за эпохи обучения')\n",
        "plt.legend()\n",
        "plt.show()"
      ]
    },
    {
      "cell_type": "markdown",
      "metadata": {
        "id": "jQJ4R7KmmB13"
      },
      "source": [
        "Шаблон функции `generate_sample` также доступен ниже. Вы можете как дозаполнить его, так и написать свою собственную функцию с нуля. Не забывайте, что все примеры в обучающей выборке начинались с токена `<sos>`."
      ]
    },
    {
      "cell_type": "code",
      "execution_count": 76,
      "metadata": {
        "id": "22eU7WtFmB13"
      },
      "outputs": [],
      "source": [
        "def generate_sample(char_rnn, seed_phrase=None, max_length=500, temperature=1.0, device=device):\n",
        "    '''\n",
        "    The function generates text given a phrase of length at least SEQ_LENGTH.\n",
        "    :param seed_phrase: prefix characters. The RNN is asked to continue the phrase\n",
        "    :param max_length: maximum output length, excluding the seed_phrase\n",
        "    :param temperature: coefficient for sampling.  higher temperature produces more chaotic outputs,\n",
        "                        smaller temperature converges to the single most likely output\n",
        "    '''\n",
        "\n",
        "    if seed_phrase is not None:\n",
        "        x_sequence = [token_to_idx['<sos>']] + [token_to_idx[token] for token in seed_phrase]\n",
        "    else:\n",
        "        x_sequence = [token_to_idx['<sos>']]\n",
        "\n",
        "    x_sequence = torch.tensor([x_sequence], dtype=torch.int64).to(device)\n",
        "\n",
        "    input_seq = F.one_hot(x_sequence, num_classes=num_tokens).float()\n",
        "\n",
        "    hidden = char_rnn.init_hidden(1)\n",
        "    generated = x_sequence.tolist()[0]\n",
        "\n",
        "    for _ in range(max_length):\n",
        "        output, hidden = char_rnn(input_seq, hidden)\n",
        "        output = output / temperature\n",
        "        probabilities = F.softmax(output, dim=1).data\n",
        "        probabilities = probabilities.cpu()\n",
        "        top_i = torch.multinomial(probabilities, 1)[-1]\n",
        "        generated.append(top_i.item())\n",
        "        input_seq = F.one_hot(torch.tensor([[top_i]]), num_classes=num_tokens).float().to(device)\n",
        "\n",
        "    return ''.join([idx_to_token[ix] for ix in generated[1:]])"
      ]
    },
    {
      "cell_type": "markdown",
      "metadata": {
        "id": "jcA1lFurmB13"
      },
      "source": [
        "Пример текста сгенерированного обученной моделью доступен ниже. Не страшно, что в тексте много несуществующих слов. Используемая модель очень проста: это простая классическая RNN."
      ]
    },
    {
      "cell_type": "code",
      "execution_count": 77,
      "metadata": {
        "colab": {
          "base_uri": "https://localhost:8080/"
        },
        "id": "vO85pTBZmB13",
        "outputId": "de2fbc57-93aa-4f9c-afb4-1081a702079d"
      },
      "outputs": [
        {
          "output_type": "stream",
          "name": "stdout",
          "text": [
            " мой дядя самых честных правил\n",
            "на правлять моемит так;\n",
            "всегда бы видил родую\n",
            "открыльною своих стирит\n",
            "сосед в берем были болов,\n",
            "в темны как нет ине идета любви,\n",
            "но ворой дорговомит,\n",
            "но в нем песьмой для страсти.\n",
            "\n",
            "\n",
            "\n",
            "xxi\n",
            "\n",
            "всё это дреги поядать,\n",
            "оти был льютя наши нровым,\n",
            "с ониковые привела:\n",
            "во я благосельца и постал\n",
            "истредах нас сомник милая,\n",
            "пора двере семьем он весела.\n",
            "не знала ждов его старины,\n",
            "он встретел и что ж? бывлять.\n",
            "\n",
            "\n",
            "\n",
            "xxxviii\n",
            "\n",
            "одно благодостно в луна!\n",
            "\n",
            "\n",
            "\n",
            "xxiii\n",
            "\n",
            "мое! ны льби, качтольки приезданья,\n",
            "с ивгоря не благосо\n"
          ]
        }
      ],
      "source": [
        "print(generate_sample(model, ' мой дядя самых честных правил', max_length=500, temperature=0.8))"
      ]
    },
    {
      "cell_type": "markdown",
      "metadata": {
        "id": "8VEeHfOOmB13"
      },
      "source": [
        "### Сдача задания\n",
        "Сгенерируйте десять последовательностей длиной 500, используя строку ' мой дядя самых честных правил'. Температуру для генерации выберите самостоятельно на основании визуального качества генериуремого текста. Не забудьте удалить все технические токены в случае их наличия.\n",
        "\n",
        "Сгенерированную последовательность сохрание в переменную `generated_phrase` и сдайте сгенерированный ниже файл в контест."
      ]
    },
    {
      "cell_type": "code",
      "execution_count": 78,
      "metadata": {
        "id": "dggb21_TmB13"
      },
      "outputs": [],
      "source": [
        "seed_phrase = ' мой дядя самых честных правил'"
      ]
    },
    {
      "cell_type": "code",
      "execution_count": 79,
      "metadata": {
        "id": "MPj039wnmB13"
      },
      "outputs": [],
      "source": [
        "desired_total_length = 500\n",
        "additional_length = desired_total_length - len(seed_phrase)\n",
        "\n",
        "generated_phrases = [\n",
        "    generate_sample(\n",
        "        model,\n",
        "        seed_phrase,\n",
        "        max_length=additional_length,\n",
        "        temperature=0.8\n",
        "    )\n",
        "    for _ in range(10)\n",
        "]"
      ]
    },
    {
      "cell_type": "code",
      "execution_count": 80,
      "metadata": {
        "colab": {
          "base_uri": "https://localhost:8080/"
        },
        "id": "g6MGou6FmB13",
        "outputId": "584fef36-a312-422b-8402-861e9de733cb"
      },
      "outputs": [
        {
          "output_type": "stream",
          "name": "stdout",
          "text": [
            "File saved to `submission_dict.json`\n"
          ]
        }
      ],
      "source": [
        "# do not change the code in the block below\n",
        "# __________start of block__________\n",
        "\n",
        "import json\n",
        "if 'generated_phrases' not in locals():\n",
        "    raise ValueError(\"Please, save generated phrases to `generated_phrases` variable\")\n",
        "\n",
        "for phrase in generated_phrases:\n",
        "\n",
        "    if not isinstance(phrase, str):\n",
        "        raise ValueError(\"The generated phrase should be a string\")\n",
        "\n",
        "    if len(phrase) != 500:\n",
        "        raise ValueError(\"The `generated_phrase` length should be equal to 500\")\n",
        "\n",
        "    assert all([x in set(tokens) for x in set(list(phrase))]), 'Unknown tokens detected, check your submission!'\n",
        "\n",
        "\n",
        "submission_dict = {\n",
        "    'token_to_idx': token_to_idx,\n",
        "    'generated_phrases': generated_phrases\n",
        "}\n",
        "\n",
        "with open('submission_dict.json', 'w') as iofile:\n",
        "    json.dump(submission_dict, iofile)\n",
        "print('File saved to `submission_dict.json`')\n",
        "# __________end of block__________"
      ]
    },
    {
      "cell_type": "markdown",
      "metadata": {
        "id": "nBFQ4VfRmB14"
      },
      "source": [
        "На этом задание завершено. Поздравляем!"
      ]
    }
  ],
  "metadata": {
    "accelerator": "GPU",
    "anaconda-cloud": {},
    "colab": {
      "provenance": []
    },
    "kernelspec": {
      "display_name": "Py3 Research",
      "language": "python",
      "name": "py3_research"
    },
    "language_info": {
      "codemirror_mode": {
        "name": "ipython",
        "version": 3
      },
      "file_extension": ".py",
      "mimetype": "text/x-python",
      "name": "python",
      "nbconvert_exporter": "python",
      "pygments_lexer": "ipython3",
      "version": "3.7.10"
    }
  },
  "nbformat": 4,
  "nbformat_minor": 0
}